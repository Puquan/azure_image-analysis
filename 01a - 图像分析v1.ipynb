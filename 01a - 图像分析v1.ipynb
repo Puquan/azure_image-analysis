{
 "cells": [
  {
   "cell_type": "markdown",
   "metadata": {
    "graffitiCellId": "id_a6zz5v3"
   },
   "source": [
    "# 计算机视觉服务的图像分析\n",
    "\n",
    "## 实验目的：\n",
    "- 了解计算机视觉的基础知识\n",
    "- 掌握和创建微软认知服务\n",
    "- 掌握连接和使用云端端口\n",
    "\n",
    "\n",
    "## 实验内容：\n",
    "- 介绍计算机视觉知识\n",
    "- 创建认知服务\n",
    "- 使用认知服务进行图像分析"
   ]
  },
  {
   "cell_type": "markdown",
   "metadata": {
    "graffitiCellId": "id_aacrdq5"
   },
   "source": [
    "# <font color='MediumPurple'>背景 </font>\n",
    "\n",
    "##  <font color='RoyalBlue'>1. 计算机视觉与图像分析介绍 </font>\n",
    "\n",
    "![拿着图片的机器人](./images/computer_vision.jpg)\n",
    "\n",
    "*计算机视觉* 是人工智能 （AI） 的一个分支，它探索人工智能系统的发展，通过相机或分析图像和视频实时\"看到\"世界。数字图像本质上只是数值值数组，我们可以使用这些像素值作为 *功能* 来训练机器学习模型，这些模型可以对图像进行分类，检测图像中的离散对象，甚至生成基于文本的照片摘要。"
   ]
  },
  {
   "cell_type": "markdown",
   "metadata": {
    "graffitiCellId": "id_cfclknk"
   },
   "source": [
    "## 1.1 计算机视觉\n",
    "计算机视觉（Computer vision）是一门研究如何使机器“看”的科学，更进一步的说，就是指用摄影机和计算机代替人眼对目标进行识别、跟踪和测量等机器视觉，并进一步做图像处理，用计算机处理成为更适合人眼观察或传送给仪器检测的图像。\n",
    "\n",
    "\n",
    "<img style=\"float: left;\" width = \"850\" height = \"500\" src=./data/vision/vision2.png>\n",
    "\n",
    "<img style=\"float: left;\" width = \"850\" height = \"500\" src=./data/vision/vision1.png>"
   ]
  },
  {
   "cell_type": "markdown",
   "metadata": {
    "graffitiCellId": "id_ngm8cf0"
   },
   "source": [
    "## 1.2 图像分析的领域介绍\n",
    "图像分析的研究对象主要是二维图像，实现图像的转化，尤其针对像素级的操作，例如提高图像对比度，边缘提取，去噪声和几何变换如图像旋转。\n",
    "图像分析研究的领域一般包括：\n",
    "\n",
    "- 基于内容的图像检索（CBIR-Content Based Image Retrieval）\n",
    "- 人脸识别（face recognition）\n",
    "- 表情识别（emotion recognition）\n",
    "- 光学字符识别（OCR-Optical Character Recognition）\n",
    "- 手写体识别（handwriting recognition）\n",
    "- 医学图像分析（biomedical image analysis）\n",
    "- 视频对象提取（video object extraction）"
   ]
  },
  {
   "cell_type": "markdown",
   "metadata": {
    "graffitiCellId": "id_5zyqnbp"
   },
   "source": [
    "# <font color='RoyalBlue'> 2. 创建计算机视觉认知服务 \n",
    "Microsoft Azure 包括许多 *认知服务*，这些服务封装了常见的 AI 功能，包括一些可帮助您构建计算机视觉解决方案的功能。\n",
    "\n",
    "*计算机视觉*认知服务为我们在 Azure 中探索计算机视觉提供了一个起点。它使用预先训练的机器学习模型来分析图像并提取有关图像的信息。\n",
    "\n",
    "例如，假设 Northwind 贸易商已决定实施\"智能商店\"，其中 AI 服务监控商店以识别需要帮助的客户，并指示员工帮助他们。通过使用计算机视觉服务，可以分析整个商店中摄像机拍摄的图像，以提供有意义的描述。"
   ]
  },
  {
   "cell_type": "markdown",
   "metadata": {
    "graffitiCellId": "id_tl1yw6x"
   },
   "source": [
    "## 2.1 创建认知服务资源\n",
    "\n",
    "如果还没有，请使用以下步骤在 Azure 订阅中创建 **认知服务** 资源：\n",
    "\n",
    "1. 在另一个浏览器选项卡中，打开 Azure 门户，网址为 [https://portal.azure.cn](https://portal.azure.cn) ，使用 Azure 帐户登录。\n",
    "<img style=\"float: left;\" width = \"850\" height = \"500\" src=./data/luis/notebook/01.png>"
   ]
  },
  {
   "cell_type": "markdown",
   "metadata": {
    "graffitiCellId": "id_7m4y9y4"
   },
   "source": [
    "2. 单击 **&#65291;创建资源**按钮，搜索 *认知服务*，选择蓝色图标的并创建具有以下设置的 **认知服务**资源：\n",
    "<img style=\"float: left;\" width = \"850\" height = \"500\" src=./data/luis/notebook/19.png>\n",
    "<img style=\"float: left;\" width = \"850\" height = \"500\" src=./data/luis/notebook/20.png>\n",
    "<img style=\"float: left;\" width = \"850\" height = \"500\" src=./data/luis/notebook/21.png>"
   ]
  },
  {
   "cell_type": "markdown",
   "metadata": {
    "graffitiCellId": "id_5xyr4bs"
   },
   "source": [
    "3. 等待部署完成。点击 **转到资源**，然后转到您的认知服务资源。\n",
    "<img style=\"float: left;\" width = \"850\" height = \"500\" src=./data/luis/notebook/23.png>"
   ]
  },
  {
   "cell_type": "markdown",
   "metadata": {
    "graffitiCellId": "id_dm9bith"
   },
   "source": [
    "## 2.2 获取认知服务资源的关键和端点\n",
    "\n",
    "要使用认知服务资源，客户端应用程序需要其端点和身份验证密钥：\n",
    "\n",
    "1. 在 Azure 门户中，在认知服务资源的 `密钥和终结点` 页面上，复制资源中的 `密钥1` 并将其粘贴到下面的代码中，替换 `YOUR_COG_KEY` 。\n",
    "2. 复制资源中的 终结点 并将其粘贴到下面的代码中，替换 `YOUR_COG_ENDPOINT` 。\n",
    "3. 通过选择单元格，然后单击`运行`按钮来运行下面的代码。\n",
    "\n",
    "<img style=\"float: left;\" width = \"850\" height = \"500\" src=./data/luis/notebook/24.png>"
   ]
  },
  {
   "cell_type": "markdown",
   "metadata": {
    "graffitiCellId": "id_ccut2x8"
   },
   "source": [
    "# <font color='RoyalBlue'> 3. 计算机视觉服务：图像理解"
   ]
  },
  {
   "cell_type": "markdown",
   "metadata": {
    "graffitiCellId": "id_h14ywhd"
   },
   "source": [
    "## <font color='red'>3.1 配置密钥连接云端服务<span class=\"graffiti-highlight graffiti-id_h14ywhd-id_8t67eze\"><i></i> <button><img src=\"https://gitee.com/wenjian89/ai-edu/raw/master/icon-loudspeaker.jpeg\" alt=\"点击查看解析\" style=\"width: 20px; \" align=\"right\"/></button></span>"
   ]
  },
  {
   "cell_type": "code",
   "execution_count": null,
   "metadata": {
    "gather": {
     "logged": 1599691487445
    },
    "graffitiCellId": "id_p8o5r4n"
   },
   "outputs": [],
   "source": [
    "cog_key = 'YOUR_COG_KEY'\n",
    "cog_endpoint = 'YOUR_COG_ENDPOINT'\n",
    "\n",
    "print('终结点为：{}  密钥为： {}'.format(cog_endpoint, cog_key))"
   ]
  },
  {
   "cell_type": "markdown",
   "metadata": {
    "graffitiCellId": "id_7g7sqxe"
   },
   "source": [
    "<p hidden>\n",
    "cog_key = 'ee7d38218eae4f9e9c2bceaa60f13d75'\n",
    "cog_endpoint = 'https://test233.cognitiveservices.azure.cn/'\n",
    "</p>"
   ]
  },
  {
   "cell_type": "markdown",
   "metadata": {
    "graffitiCellId": "id_1xhgbnz"
   },
   "source": [
    "## 3.2 安装微软计算机视觉服务包 \n",
    "\n",
    "现在，您已经设置了键和终结点，您可以使用计算机视觉服务来分析图像。\n",
    "\n",
    "若要从 Python 执行此操作，您需要运行以下单元格来安装 Azure 认知服务计算机视觉包。"
   ]
  },
  {
   "cell_type": "code",
   "execution_count": null,
   "metadata": {
    "graffitiCellId": "id_7cz68dl",
    "tags": []
   },
   "outputs": [],
   "source": [
    "! pip install azure-cognitiveservices-vision-computervision "
   ]
  },
  {
   "cell_type": "markdown",
   "metadata": {
    "graffitiCellId": "id_9hnjrgo"
   },
   "source": [
    "## 3.3 使用云端计算机视觉服务"
   ]
  },
  {
   "cell_type": "markdown",
   "metadata": {
    "graffitiCellId": "id_uq4m2le"
   },
   "source": [
    "运行以下单元格，获取 `store_cam1.jpg` 的描述。"
   ]
  },
  {
   "cell_type": "code",
   "execution_count": null,
   "metadata": {
    "gather": {
     "logged": 1599691518279
    },
    "graffitiCellId": "id_fyq42ny"
   },
   "outputs": [],
   "source": [
    "from azure.cognitiveservices.vision.computervision import ComputerVisionClient\n",
    "from msrest.authentication import CognitiveServicesCredentials\n",
    "from python_code import vision\n",
    "import os\n",
    "%matplotlib inline\n",
    "\n",
    "# 获取图像文件的路径\n",
    "image_path = os.path.join('data', 'vision', 'store_cam1.jpg')\n",
    "\n",
    "# 获取计算机视觉服务的客户端\n",
    "computervision_client = ComputerVisionClient(cog_endpoint, CognitiveServicesCredentials(cog_key))\n",
    "\n",
    "# 从计算机视觉服务获取描述\n",
    "image_stream = open(image_path, \"rb\")\n",
    "description = computervision_client.describe_image_in_stream(image_stream)\n",
    "\n",
    "# 显示图像和标题（helper_scripts/vision.py）\n",
    "vision.show_image_caption(image_path, description)\n"
   ]
  },
  {
   "cell_type": "markdown",
   "metadata": {
    "graffitiCellId": "id_7g1a4au"
   },
   "source": [
    "# <font color='red'> 尝试补全下面单元格的代码 <span class=\"graffiti-highlight graffiti-id_7g1a4au-id_p0y8at4\"><i></i><button><img src=\"https://gitee.com/wenjian89/ai-edu/raw/master/icon-loudspeaker.jpeg\" alt=\"点击查看解析\" style=\"width: 20px; \" align=\"right\"/></button></span>\n",
    "\n",
    "仿照上方代码，补全代码，这次使用的照片为：`store_cam2.jpg` "
   ]
  },
  {
   "cell_type": "code",
   "execution_count": null,
   "metadata": {
    "gather": {
     "logged": 1599691524330
    },
    "graffitiCellId": "id_bw1rwm0"
   },
   "outputs": [],
   "source": [
    "# 获取图像文件的路径\n",
    "\n",
    "\n",
    "# 获取计算机视觉服务的客户端\n",
    "\n",
    "\n",
    "# 从计算机视觉服务获取描述\n",
    "\n",
    "\n",
    "# 显示图像和标题（helper_scripts/vision.py）\n"
   ]
  },
  {
   "cell_type": "markdown",
   "metadata": {
    "graffitiCellId": "id_fq349z6"
   },
   "source": [
    "# <font color='RoyalBlue'> 4. 计算机视觉服务：分析图像特征\n",
    "\n",
    "到目前为止，您已经使用计算机视觉服务为几张图片生成描述性字幕;但你还可以做更多计算机视觉服务提供分析功能，可以提取详细信息，如：\n",
    "\n",
    "- 图像中检测到的常见对象类型的位置。\n",
    "- 图像中人脸的位置和大致年龄。\n",
    "- 图像是否包含任何\"成人\"，\"活泼\"或\"血腥\"的内容。\n",
    "- 可与数据库中的图像关联的相关标记，以便于查找。\n",
    "\n",
    "运行以下代码以分析购物者的图像。"
   ]
  },
  {
   "cell_type": "code",
   "execution_count": null,
   "metadata": {
    "gather": {
     "logged": 1599691530747
    },
    "graffitiCellId": "id_gyetpj7"
   },
   "outputs": [],
   "source": [
    "# 获取图像文件的路径\n",
    "image_path = os.path.join('data', 'vision', 'store_cam1.jpg')\n",
    "\n",
    "# 指定要分析的功能\n",
    "features = ['Description', 'Tags', 'Adult', 'Objects', 'Faces']\n",
    "\n",
    "# 从计算机视觉服务获取分析\n",
    "image_stream = open(image_path, \"rb\")\n",
    "analysis = computervision_client.analyze_image_in_stream(image_stream, visual_features=features)\n",
    "\n",
    "# 显示分析结果（helper_scripts/.py）\n",
    "vision.show_image_analysis(image_path, analysis)"
   ]
  },
  {
   "cell_type": "markdown",
   "metadata": {
    "graffitiCellId": "id_jur6aqd"
   },
   "source": [
    "# <font color='red'>自由练习 </font>\n",
    "\n",
    "在百度上搜索“超市 顾客 图片”，找到一张超市中有人的图片，下载到你的本地。然后，上传到`/ai-fundamentals/data/vision`，点击右上角“上传”，选择文件，上传。\n",
    "\n",
    "修改以下代码中??部分，然后运行，观察得到的图片分析结果。"
   ]
  },
  {
   "cell_type": "code",
   "execution_count": null,
   "metadata": {
    "graffitiCellId": "id_dme7jgl"
   },
   "outputs": [],
   "source": [
    "# 获取图像文件的路径\n",
    "image_path = os.path.join('data', 'vision', '??')\n",
    "\n",
    "# 指定要分析的功能\n",
    "features = ['Description', 'Tags', 'Adult', 'Objects', 'Faces']\n",
    "\n",
    "# 从计算机视觉服务获取分析\n",
    "image_stream = open(image_path, \"rb\")\n",
    "analysis = computervision_client.analyze_image_in_stream(image_stream, visual_features=features)\n",
    "\n",
    "# 显示分析结果（helper_scripts/.py）\n",
    "vision.show_image_analysis(image_path, analysis)"
   ]
  },
  {
   "cell_type": "markdown",
   "metadata": {
    "graffitiCellId": "id_r29jcgr"
   },
   "source": [
    "## 了解更多\n",
    "\n",
    "除了您在此笔记本中探索的功能外，计算机视觉认知服务还包括：\n",
    "\n",
    "- 识别图像中的名人。\n",
    "- 检测图像中的品牌徽标。\n",
    "- 执行光学字符识别 （OCR） 以读取图像中的文本。\n",
    "\n",
    "要了解有关计算机视觉认知服务的更多信息，请参阅 [计算机视觉文档](https://docs.microsoft.com/azure/cognitive-services/computer-vision/)"
   ]
  }
 ],
 "metadata": {
  "graffiti": {
   "firstAuthorId": "dev",
   "id": "id_wgdxbaw",
   "language": "CN"
  },
  "kernel_info": {
   "name": "python3-azureml"
  },
  "kernelspec": {
   "display_name": "Python 3",
   "language": "python",
   "name": "python3"
  },
  "language_info": {
   "codemirror_mode": {
    "name": "ipython",
    "version": 3
   },
   "file_extension": ".py",
   "mimetype": "text/x-python",
   "name": "python",
   "nbconvert_exporter": "python",
   "pygments_lexer": "ipython3",
   "version": "3.7.3"
  },
  "nteract": {
   "version": "nteract-front-end@1.0.0"
  }
 },
 "nbformat": 4,
 "nbformat_minor": 2
}
